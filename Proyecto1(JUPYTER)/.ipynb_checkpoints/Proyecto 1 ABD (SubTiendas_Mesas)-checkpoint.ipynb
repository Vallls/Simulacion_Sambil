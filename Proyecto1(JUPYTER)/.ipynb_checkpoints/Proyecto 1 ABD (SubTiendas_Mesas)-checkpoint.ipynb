{
 "cells": [
  {
   "cell_type": "code",
   "execution_count": 1,
   "metadata": {},
   "outputs": [],
   "source": [
    "import ssl\n",
    "import sys\n",
    "import paho.mqtt.client\n",
    "import psycopg2\n",
    "import pandas\n",
    "import numpy\n",
    "import matplotlib\n",
    "import json"
   ]
  },
  {
   "cell_type": "code",
   "execution_count": 2,
   "metadata": {},
   "outputs": [],
   "source": [
    "conn = psycopg2.connect(host = 'localhost', user= 'postgres', password ='27450917', dbname= 'ABDP1')"
   ]
  },
  {
   "cell_type": "code",
   "execution_count": 3,
   "metadata": {},
   "outputs": [],
   "source": [
    "def sensor_mcadress(a):\n",
    "    cur = conn.cursor()\n",
    "    sql = '''INSERT INTO sensor_mcadress (mcadress,idsensor,fecha_hora) VALUES ( %s, %s, %s);'''\n",
    "    cur.execute(sql, (a[\"mcadress\"],a[\"idsensor\"],a[\"fecha_hora\"]))\n",
    "    conn.commit()"
   ]
  },
  {
   "cell_type": "code",
   "execution_count": 4,
   "metadata": {},
   "outputs": [],
   "source": [
    "def sensor_usuario(a):\n",
    "    cur = conn.cursor()\n",
    "    sql = '''INSERT INTO sensor_usuario (idsensor,fecha_hora,edad,sexo) VALUES ( %s, %s, %s, %s);'''\n",
    "    cur.execute(sql, (a[\"idsensor\"],a[\"fecha_hora\"],a[\"edad\"],a[\"sexo\"]))\n",
    "    conn.commit()"
   ]
  },
  {
   "cell_type": "code",
   "execution_count": 5,
   "metadata": {},
   "outputs": [],
   "source": [
    "def on_connect(client, userdata, flags, rc):    \n",
    "    print('conectado (%s)' % client._client_id)\n",
    "    client.subscribe(topic='sambil/#', qos = 0)  "
   ]
  },
  {
   "cell_type": "code",
   "execution_count": 6,
   "metadata": {},
   "outputs": [],
   "source": [
    "def on_message(client, userdata, message):   \n",
    "    a = json.loads(message.payload)\n",
    "    print(a)\n",
    "    print('------------------------------')\n",
    "    if a['mcadress'] != '':\n",
    "        sensor_mcadress(a)\n",
    "    else:\n",
    "        sensor_usuario(a)"
   ]
  },
  {
   "cell_type": "code",
   "execution_count": 7,
   "metadata": {},
   "outputs": [],
   "source": [
    "def main():\t\n",
    "\tclient = paho.mqtt.client.Client()\n",
    "\tclient.on_connect = on_connect\n",
    "\tclient.message_callback_add('sambil/sensores/tiendas-mesas', on_message)\n",
    "\tclient.connect(host='localhost')\n",
    "\tclient.loop_forever()"
   ]
  },
  {
   "cell_type": "code",
   "execution_count": null,
   "metadata": {},
   "outputs": [],
   "source": [
    "if __name__ == '__main__':\n",
    "\tmain()\n",
    "\tsys.exit(0)"
   ]
  }
 ],
 "metadata": {
  "kernelspec": {
   "display_name": "Python 3",
   "language": "python",
   "name": "python3"
  },
  "language_info": {
   "codemirror_mode": {
    "name": "ipython",
    "version": 3
   },
   "file_extension": ".py",
   "mimetype": "text/x-python",
   "name": "python",
   "nbconvert_exporter": "python",
   "pygments_lexer": "ipython3",
   "version": "3.7.3"
  }
 },
 "nbformat": 4,
 "nbformat_minor": 2
}
